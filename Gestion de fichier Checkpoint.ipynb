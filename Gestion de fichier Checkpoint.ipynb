{
 "cells": [
  {
   "cell_type": "markdown",
   "id": "2d15eddc",
   "metadata": {},
   "source": [
    "# Objective\n",
    "#1. Write a Python program to read an entire text file.\n",
    "\n",
    "#2. Write a Python program to read first n lines of a file.\n",
    "\n",
    "#3. Write a Python program to read last n lines of a file\n",
    "\n",
    "#4. Write a Python program that takes a text file as input and returns the number of words of a given text file.\n",
    "\n",
    "#5. (bonus) Write a Python program to read last n lines of a file"
   ]
  },
  {
   "cell_type": "code",
   "execution_count": null,
   "id": "b0634920",
   "metadata": {},
   "outputs": [],
   "source": [
    "#1\n",
    "\n",
    "file=open(\"python.txt\",\"r\")\n",
    "file.read()\n"
   ]
  },
  {
   "cell_type": "code",
   "execution_count": null,
   "id": "1f01cfc2",
   "metadata": {},
   "outputs": [],
   "source": [
    "file.close()"
   ]
  },
  {
   "cell_type": "code",
   "execution_count": null,
   "id": "dbebcce3",
   "metadata": {},
   "outputs": [],
   "source": [
    "#2\n",
    "\n",
    "#n=3\n",
    "file1=open(\"python.txt\",\"r\")\n",
    "n=3\n",
    "for i in range(n): #ou for line in range (n)\n",
    "    print(file1.readline())\n",
    "    \n",
    "\n",
    "\n",
    "\n",
    "\n",
    "\n",
    "\n",
    "\n"
   ]
  },
  {
   "cell_type": "code",
   "execution_count": 2,
   "id": "dddbc024",
   "metadata": {},
   "outputs": [
    {
     "name": "stdout",
     "output_type": "stream",
     "text": [
      "['languages such as C++ or Java. \\n', 'Python supports multiple programming paradigms, including object-oriented, imperative and functional programming or procedural styles. It features a dynamic type system and automatic memory management and has a large and comprehensive standard library.The best way we learn anything is by practice and exercise questions. We  have started this section for those (beginner to intermediate) who are familiar with Python.']\n"
     ]
    }
   ],
   "source": [
    "#3\n",
    "file2=open(\"python.txt\",\"r\")\n",
    "lines=file2.readlines()\n",
    "last_lines=lines[-2:]\n",
    "print(last_lines)\n",
    "\n",
    "    \n",
    "    "
   ]
  },
  {
   "cell_type": "code",
   "execution_count": 7,
   "id": "cc2039e9",
   "metadata": {},
   "outputs": [
    {
     "name": "stdout",
     "output_type": "stream",
     "text": [
      "148\n"
     ]
    }
   ],
   "source": [
    "#4\n",
    "#Write a Python program that takes a text file as input and returns the number of words of a given text file.\n",
    "# on voit return = donc ON UTILISE UNE FONCTION\n",
    "\n",
    "def size_file(my_file):\n",
    "    f = my_file.read()\n",
    "    f.replace(\",\",\" \") #on enleves les virgules et on les remplace par des espaces\n",
    "    l = len(f.split(\" \")) #ON enleve les espaces puis on compte la longeur \n",
    "    return l\n",
    "\n",
    "file = open(\"python.txt\",\"r\")\n",
    "print(size_file(file))\n",
    "\n"
   ]
  },
  {
   "cell_type": "code",
   "execution_count": null,
   "id": "f77b7ec2",
   "metadata": {},
   "outputs": [],
   "source": [
    "#5 (bonus) Write a Python program to read last n lines of a file\n",
    "\n",
    "\n",
    "\n",
    "\n"
   ]
  }
 ],
 "metadata": {
  "kernelspec": {
   "display_name": "Python 3 (ipykernel)",
   "language": "python",
   "name": "python3"
  },
  "language_info": {
   "codemirror_mode": {
    "name": "ipython",
    "version": 3
   },
   "file_extension": ".py",
   "mimetype": "text/x-python",
   "name": "python",
   "nbconvert_exporter": "python",
   "pygments_lexer": "ipython3",
   "version": "3.9.7"
  }
 },
 "nbformat": 4,
 "nbformat_minor": 5
}
